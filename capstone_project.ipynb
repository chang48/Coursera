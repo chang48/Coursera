{
 "cells": [
  {
   "cell_type": "markdown",
   "metadata": {},
   "source": [
    "## Applied Data Science Capstone Project - The Battle of Neighborhoods"
   ]
  },
  {
   "cell_type": "markdown",
   "metadata": {},
   "source": [
    "### Introduction/Business Problem"
   ]
  },
  {
   "cell_type": "markdown",
   "metadata": {},
   "source": [
    "An investor is looking to open a new restaurant in San Francisco, but he is not sure about the best location for his new venue and needs input for making the decision. San Francisco is rather busy city famous for its business innovation and several famous tourit attractions. So while it looks promising to set up a new restaurant business in San Francisco, the venue's location must be carefully picked in order to maximize the profit. According to <a href=\"https://www.foodnewsfeed.com/fsr/vendor-bylines/8-factors-choosing-new-restaurant-location\">an analysis</a> in the FSR Magazine, the 8 factors for choosing a new restaurant location are\n",
    "\n",
    "1. Visibility - look for foot and car traffic patterns that can give the venue the best visibility.\n",
    "2. Parking - need to have sufficient parking space for customers.\n",
    "3. Space size - consider how big of a space one needs for restaurant requirements.\n",
    "4. Crime rates - avoid crime-laden areas in the city.\n",
    "5. Surrounding businesses and competitor analysis - know what types of restaurant would do well in a certain area. Know what will distinguish a new restaurant from competitors.\n",
    "6. Acessibility - keep in mind about things like off-the-hightway locations, locations near busy intersections.\n",
    "7. Affordability - the cost of the venue space (rental or purchase) is a bottom-line consideration for any business.\n",
    "8. Safety - workplace safty is important for the restaurant owner as well as workers.\n",
    "\n",
    "In the capstone project, we will get the help from FourSquare API to address these considerations. "
   ]
  },
  {
   "cell_type": "markdown",
   "metadata": {},
   "source": [
    "### Data"
   ]
  },
  {
   "cell_type": "markdown",
   "metadata": {},
   "source": [
    "Because of the availability of datasets, we will not address all of the factors listed above. However, we will work on some of the most important factors such as visibility, parking, crime rates, and affordability. We will utilize the following datasets/tools.\n",
    "\n",
    "Static datasets:\n",
    "\n",
    "1. Police Department Incident Reports: 2018 to Present (<a href=\"https://data.sfgov.org/Public-Safety/Police-Department-Incident-Reports-2018-to-Present/wg3w-h783\">Link</a>). The dataset includes police incident reports filed by officers and by individuals through self-service online reporting for non-emergency cases. Reports included are those for incidents that occurred starting January 1, 2018 onward and have been approved by a supervising officer. \n",
    "2. MTA On Street Parking Census (<a href=\"https://data.sfgov.org/Transportation/MTA-parkingcensus_onstreet/up9y-3nmx\">Link</a>). The dataset contains locations and space count of unmetered motorcycle parking for the City of San Francisco.\n",
    "3. MTA Off Street Parking Census (<a href=\"https://data.sfgov.org/Transportation/MTA-parkingcensus_offstreet/dkzc-uy8h\">Link</a>). SFMTA managed off street parking locations, hours, and amenities. Includes both lots and garages.\t\n",
    "4. San Francisco Historica Secured Property Tax Rolls, 2007-2015 (<a href=\"https://www.kaggle.com/datasf/sf-historic-secured-property-tax-rolls\">Link</a>). This dataset includes the SF Office of the Assessor-Recorder’s secured property tax roll spanning from 2007 to 2015. We will use the latest data as a measure of the cost of venue space.\n",
    "\n",
    "Search engines:\n",
    "1. <a href=\"https://foursquare.com/\">Foursquare</a>, venue and point of interest search.\n",
    "2. <a href=\"https://www.parkwhiz.com/\">PARKWHIZ</a>, parking space search."
   ]
  },
  {
   "cell_type": "code",
   "execution_count": null,
   "metadata": {},
   "outputs": [],
   "source": []
  }
 ],
 "metadata": {
  "kernelspec": {
   "display_name": "Python 3",
   "language": "python",
   "name": "python3"
  },
  "language_info": {
   "codemirror_mode": {
    "name": "ipython",
    "version": 3
   },
   "file_extension": ".py",
   "mimetype": "text/x-python",
   "name": "python",
   "nbconvert_exporter": "python",
   "pygments_lexer": "ipython3",
   "version": "3.6.6"
  }
 },
 "nbformat": 4,
 "nbformat_minor": 2
}
