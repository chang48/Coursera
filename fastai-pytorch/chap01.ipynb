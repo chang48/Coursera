{
 "cells": [
  {
   "cell_type": "code",
   "execution_count": null,
   "id": "b5a001ec",
   "metadata": {},
   "outputs": [],
   "source": [
    "import fastbook\n",
    "fastbook.setup_book()"
   ]
  },
  {
   "cell_type": "code",
   "execution_count": null,
   "id": "365adbd8",
   "metadata": {},
   "outputs": [],
   "source": [
    "from fastbook import *"
   ]
  },
  {
   "cell_type": "markdown",
   "id": "45459913",
   "metadata": {},
   "source": [
    "---"
   ]
  },
  {
   "cell_type": "code",
   "execution_count": null,
   "id": "aa49a0f4",
   "metadata": {},
   "outputs": [],
   "source": [
    "from fastai.vision.all import *"
   ]
  },
  {
   "cell_type": "code",
   "execution_count": null,
   "id": "44056a34",
   "metadata": {},
   "outputs": [],
   "source": [
    "path = untar_data(URLs.PETS)/'images'"
   ]
  },
  {
   "cell_type": "code",
   "execution_count": null,
   "id": "0468bb3e",
   "metadata": {},
   "outputs": [],
   "source": [
    "def is_cat(x):\n",
    "    return x[0].isupper()"
   ]
  },
  {
   "cell_type": "code",
   "execution_count": null,
   "id": "589944e1",
   "metadata": {},
   "outputs": [],
   "source": [
    "dls = ImageDataLoaders.from_name_func(\n",
    "    path, get_image_files(path), valid_pct=0.2, seed=42,\n",
    "    label_func=is_cat, item_tfms=Resize(224))"
   ]
  },
  {
   "cell_type": "code",
   "execution_count": null,
   "id": "7c5a7319",
   "metadata": {},
   "outputs": [],
   "source": [
    "learn = vision_learner(dls, resnet34, metrics=error_rate)"
   ]
  },
  {
   "cell_type": "code",
   "execution_count": null,
   "id": "356ef000",
   "metadata": {},
   "outputs": [],
   "source": [
    "img_path = '/Users/cchang/Desktop/download.jpg'\n",
    "img = PILImage.create(img_path)"
   ]
  },
  {
   "cell_type": "code",
   "execution_count": null,
   "id": "0d077226",
   "metadata": {},
   "outputs": [],
   "source": [
    "is_cat, _, probs = learn.predict(img)\n",
    "print(f\"Is this a cat?: {is_cat}.\")\n",
    "print(f\"Probability it's a cat: {probs[1].item():.6f}\")\n",
    "img"
   ]
  },
  {
   "cell_type": "code",
   "execution_count": null,
   "id": "25454dbb",
   "metadata": {},
   "outputs": [],
   "source": [
    "learn.fine_tune(1)"
   ]
  },
  {
   "cell_type": "code",
   "execution_count": null,
   "id": "2f4b7a33",
   "metadata": {},
   "outputs": [],
   "source": [
    "is_cat, _, probs = learn.predict(img)\n",
    "print(f\"Is this a cat?: {is_cat}.\")\n",
    "print(f\"Probability it's a cat: {probs[1].item():.6f}\")\n",
    "img"
   ]
  },
  {
   "cell_type": "markdown",
   "id": "20be62f2",
   "metadata": {},
   "source": [
    "---"
   ]
  },
  {
   "cell_type": "code",
   "execution_count": null,
   "id": "897a6cbb",
   "metadata": {},
   "outputs": [],
   "source": [
    "path = untar_data(URLs.CAMVID_TINY)"
   ]
  },
  {
   "cell_type": "code",
   "execution_count": null,
   "id": "c3c8131f",
   "metadata": {},
   "outputs": [],
   "source": [
    "dls = SegmentationDataLoaders.from_label_func(\n",
    "    path, bs=8, fnames=get_image_files(path/'images'),\n",
    "    label_func=lambda o: path/'labels'/f'{o.stem}_P{o.suffix}',\n",
    "    codes=np.loadtxt(path/'codes.txt', dtype=str)\n",
    ")"
   ]
  },
  {
   "cell_type": "code",
   "execution_count": null,
   "id": "5a7be266",
   "metadata": {},
   "outputs": [],
   "source": [
    "learn=unet_learner(dls, resnet34)"
   ]
  },
  {
   "cell_type": "code",
   "execution_count": null,
   "id": "94f54821",
   "metadata": {},
   "outputs": [],
   "source": [
    "learn.fine_tune(8)"
   ]
  },
  {
   "cell_type": "code",
   "execution_count": null,
   "id": "432a3bb4",
   "metadata": {},
   "outputs": [],
   "source": [
    "learn.show_results(max_n=6, figsize=(7,18))"
   ]
  },
  {
   "cell_type": "markdown",
   "id": "c24ca697",
   "metadata": {},
   "source": [
    "---"
   ]
  },
  {
   "cell_type": "code",
   "execution_count": null,
   "id": "9afc69f9",
   "metadata": {},
   "outputs": [],
   "source": [
    "from fastai.text.all import *"
   ]
  },
  {
   "cell_type": "code",
   "execution_count": null,
   "id": "ade38e4c",
   "metadata": {},
   "outputs": [],
   "source": [
    "dls = TextDataLoaders.from_folder(untar_data(URLs.IMDB), valid='test')"
   ]
  },
  {
   "cell_type": "code",
   "execution_count": null,
   "id": "103ca1e9",
   "metadata": {},
   "outputs": [],
   "source": [
    "learn = text_classifier_learner(dls, AWD_LSTM, drop_mult=0.5, metrics=accuracy)"
   ]
  },
  {
   "cell_type": "code",
   "execution_count": null,
   "id": "b1b6f2cf",
   "metadata": {},
   "outputs": [],
   "source": [
    "learn.fine_tune(4, 1e-2)"
   ]
  },
  {
   "cell_type": "code",
   "execution_count": null,
   "id": "e4180369",
   "metadata": {},
   "outputs": [],
   "source": [
    "doc(learn.fine_tune)"
   ]
  },
  {
   "cell_type": "markdown",
   "id": "88c4aee0",
   "metadata": {},
   "source": [
    "---"
   ]
  },
  {
   "cell_type": "code",
   "execution_count": null,
   "id": "30c6cef5",
   "metadata": {},
   "outputs": [],
   "source": [
    "from fastai.tabular.all import *"
   ]
  },
  {
   "cell_type": "code",
   "execution_count": null,
   "id": "126d387a",
   "metadata": {},
   "outputs": [],
   "source": [
    "path = untar_data(URLs.ADULT_SAMPLE)"
   ]
  },
  {
   "cell_type": "code",
   "execution_count": null,
   "id": "fe61d5ae",
   "metadata": {},
   "outputs": [],
   "source": [
    "dls = TabularDataLoaders.from_csv(\n",
    "    path/'adult.csv',\n",
    "    path=path,\n",
    "    y_names='salary',\n",
    "    cat_names=['workclass', 'education', 'marital-status', 'occupation', 'relationship', 'race'],\n",
    "    cont_names=['age', 'fnlwgt', 'education-num'],\n",
    "    procs=[Categorify, FillMissing, Normalize])"
   ]
  },
  {
   "cell_type": "code",
   "execution_count": null,
   "id": "067c78ec",
   "metadata": {},
   "outputs": [],
   "source": [
    "learn = tabular_learner(dls, metrics=accuracy)"
   ]
  },
  {
   "cell_type": "code",
   "execution_count": null,
   "id": "eb3f4c73",
   "metadata": {},
   "outputs": [],
   "source": [
    "learn.fit_one_cycle(3)"
   ]
  },
  {
   "cell_type": "markdown",
   "id": "fece9c89",
   "metadata": {},
   "source": [
    "---"
   ]
  },
  {
   "cell_type": "code",
   "execution_count": null,
   "id": "7d1d4e9e",
   "metadata": {},
   "outputs": [],
   "source": [
    "from fastai.collab import *"
   ]
  },
  {
   "cell_type": "code",
   "execution_count": null,
   "id": "30cd74cb",
   "metadata": {},
   "outputs": [],
   "source": [
    "path = untar_data(URLs.ML_SAMPLE)"
   ]
  },
  {
   "cell_type": "code",
   "execution_count": null,
   "id": "5b1594e9",
   "metadata": {},
   "outputs": [],
   "source": [
    "dls = CollabDataLoaders.from_csv(path/'ratings.csv')"
   ]
  },
  {
   "cell_type": "code",
   "execution_count": null,
   "id": "3aa61d64",
   "metadata": {},
   "outputs": [],
   "source": [
    "learn = collab_learner(dls, y_range=(0.5, 5.5))"
   ]
  },
  {
   "cell_type": "code",
   "execution_count": null,
   "id": "1649a96c",
   "metadata": {},
   "outputs": [],
   "source": [
    "learn.fine_tune(10)"
   ]
  },
  {
   "cell_type": "code",
   "execution_count": null,
   "id": "1e11f926",
   "metadata": {},
   "outputs": [],
   "source": []
  }
 ],
 "metadata": {
  "kernelspec": {
   "display_name": "Python 3 (ipykernel)",
   "language": "python",
   "name": "python3"
  },
  "language_info": {
   "codemirror_mode": {
    "name": "ipython",
    "version": 3
   },
   "file_extension": ".py",
   "mimetype": "text/x-python",
   "name": "python",
   "nbconvert_exporter": "python",
   "pygments_lexer": "ipython3",
   "version": "3.9.9"
  }
 },
 "nbformat": 4,
 "nbformat_minor": 5
}
